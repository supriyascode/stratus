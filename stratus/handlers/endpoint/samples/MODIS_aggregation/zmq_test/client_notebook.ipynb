{
 "cells": [
  {
   "cell_type": "code",
   "execution_count": 4,
   "id": "knowing-volunteer",
   "metadata": {},
   "outputs": [
    {
     "name": "stderr",
     "output_type": "stream",
     "text": [
      "2021-02-25 12:29:49,166 - stratus - INFO - 5434 - 140647525619520 - Adding constructors for packages ['stratus.app', 'stratus.endpoints', 'stratus.handlers', 'stratus.handlers.broker', 'stratus.handlers.celery', 'stratus.handlers.celery.tests', 'stratus.handlers.celery.tests.rest', 'stratus.handlers.celery.tests.zmq', 'stratus.handlers.endpoint', 'stratus.handlers.endpoint.samples', 'stratus.handlers.endpoint.samples.EOF', 'stratus.handlers.endpoint.samples.MODIS', 'stratus.handlers.endpoint.samples.MODIS_Series', 'stratus.handlers.endpoint.samples.MODIS_aggregation', 'stratus.handlers.endpoint.samples.MODIS_data_download', 'stratus.handlers.endpoint.samples.MODIS_with_download', 'stratus.handlers.endpoint.samples.xarrayOps', 'stratus.handlers.endpoint.tests', 'stratus.handlers.lambda', 'stratus.handlers.openapi', 'stratus.handlers.openapi.wps', 'stratus.handlers.rest', 'stratus.handlers.rest.api', 'stratus.handlers.rest.api.core', 'stratus.handlers.rest.api.ows_wps', 'stratus.handlers.rest.api.ows_wps.test', 'stratus.handlers.rest.api.wps', 'stratus.handlers.rest.api.wps.test', 'stratus.handlers.rest.test', 'stratus.handlers.test', 'stratus.handlers.zeromq', 'stratus.handlers.zeromq.security', 'stratus.tests', 'stratus.util', 'stratus.views']\n",
      "2021-02-25 12:29:49,173 - stratus - INFO - 5434 - 140647525619520 - Initialized stratus node for service zeromq\n",
      "2021-02-25 12:29:49,176 - stratus - INFO - 5434 - 140647525619520 - create client stratus:\n",
      " kwargs= {}\n",
      " core.parms = {'type': 'zeromq', 'client_address': '127.0.0.1', 'request_port': '4566', 'response_port': '4567', 'name': 'stratus'}\n",
      " core.config = {'stratus': {'type': 'zeromq', 'client_address': '127.0.0.1', 'request_port': '4566', 'response_port': '4567', 'name': 'stratus'}}\n",
      " handler.parms = {'client_address': '127.0.0.1', 'request_port': '4566', 'response_port': '4567', 'name': 'stratus'}\n",
      " handler.type = zeromq\n",
      " handler.name = stratus\n",
      "2021-02-25 12:29:50,676 - stratus - INFO - 5434 - 140647525619520 - [ZP] [1]Connected request socket to server 127.0.0.1 on port: 4566\n",
      "2021-02-25 12:29:50,685 - stratus - INFO - 5434 - 140647525619520 - [ZP] Sending authenticated capabilities request {\"type\": \"epas\"} on port 4566, requestId = CMLyWZ.\n"
     ]
    },
    {
     "name": "stdout",
     "output_type": "stream",
     "text": [
      "Initialized zmq client at:\n",
      "['  File \"/home/supriya/anaconda3/envs/stratus/lib/python3.6/runpy.py\", line 193, in _run_module_as_main\\n    \"__main__\", mod_spec)\\n\\n', '  File \"/home/supriya/anaconda3/envs/stratus/lib/python3.6/runpy.py\", line 85, in _run_code\\n    exec(code, run_globals)\\n\\n', '  File \"/home/supriya/anaconda3/envs/stratus/lib/python3.6/site-packages/ipykernel_launcher.py\", line 16, in <module>\\n    app.launch_new_instance()\\n\\n', '  File \"/home/supriya/anaconda3/envs/stratus/lib/python3.6/site-packages/traitlets/config/application.py\", line 664, in launch_instance\\n    app.start()\\n\\n', '  File \"/home/supriya/anaconda3/envs/stratus/lib/python3.6/site-packages/ipykernel/kernelapp.py\", line 612, in start\\n    self.io_loop.start()\\n\\n', '  File \"/home/supriya/anaconda3/envs/stratus/lib/python3.6/site-packages/tornado/platform/asyncio.py\", line 149, in start\\n    self.asyncio_loop.run_forever()\\n\\n', '  File \"/home/supriya/anaconda3/envs/stratus/lib/python3.6/asyncio/base_events.py\", line 442, in run_forever\\n    self._run_once()\\n\\n', '  File \"/home/supriya/anaconda3/envs/stratus/lib/python3.6/asyncio/base_events.py\", line 1462, in _run_once\\n    handle._run()\\n\\n', '  File \"/home/supriya/anaconda3/envs/stratus/lib/python3.6/asyncio/events.py\", line 145, in _run\\n    self._callback(*self._args)\\n\\n', '  File \"/home/supriya/anaconda3/envs/stratus/lib/python3.6/site-packages/tornado/ioloop.py\", line 690, in <lambda>\\n    lambda f: self._run_callback(functools.partial(callback, future))\\n\\n', '  File \"/home/supriya/anaconda3/envs/stratus/lib/python3.6/site-packages/tornado/ioloop.py\", line 743, in _run_callback\\n    ret = callback()\\n\\n', '  File \"/home/supriya/anaconda3/envs/stratus/lib/python3.6/site-packages/tornado/gen.py\", line 787, in inner\\n    self.run()\\n\\n', '  File \"/home/supriya/anaconda3/envs/stratus/lib/python3.6/site-packages/tornado/gen.py\", line 748, in run\\n    yielded = self.gen.send(value)\\n\\n', '  File \"/home/supriya/anaconda3/envs/stratus/lib/python3.6/site-packages/ipykernel/kernelbase.py\", line 365, in process_one\\n    yield gen.maybe_future(dispatch(*args))\\n\\n', '  File \"/home/supriya/anaconda3/envs/stratus/lib/python3.6/site-packages/tornado/gen.py\", line 209, in wrapper\\n    yielded = next(result)\\n\\n', '  File \"/home/supriya/anaconda3/envs/stratus/lib/python3.6/site-packages/ipykernel/kernelbase.py\", line 268, in dispatch_shell\\n    yield gen.maybe_future(handler(stream, idents, msg))\\n\\n', '  File \"/home/supriya/anaconda3/envs/stratus/lib/python3.6/site-packages/tornado/gen.py\", line 209, in wrapper\\n    yielded = next(result)\\n\\n', '  File \"/home/supriya/anaconda3/envs/stratus/lib/python3.6/site-packages/ipykernel/kernelbase.py\", line 545, in execute_request\\n    user_expressions, allow_stdin,\\n\\n', '  File \"/home/supriya/anaconda3/envs/stratus/lib/python3.6/site-packages/tornado/gen.py\", line 209, in wrapper\\n    yielded = next(result)\\n\\n', '  File \"/home/supriya/anaconda3/envs/stratus/lib/python3.6/site-packages/ipykernel/ipkernel.py\", line 306, in do_execute\\n    res = shell.run_cell(code, store_history=store_history, silent=silent)\\n\\n', '  File \"/home/supriya/anaconda3/envs/stratus/lib/python3.6/site-packages/ipykernel/zmqshell.py\", line 536, in run_cell\\n    return super(ZMQInteractiveShell, self).run_cell(*args, **kwargs)\\n\\n', '  File \"/home/supriya/anaconda3/envs/stratus/lib/python3.6/site-packages/IPython/core/interactiveshell.py\", line 2867, in run_cell\\n    raw_cell, store_history, silent, shell_futures)\\n\\n', '  File \"/home/supriya/anaconda3/envs/stratus/lib/python3.6/site-packages/IPython/core/interactiveshell.py\", line 2895, in _run_cell\\n    return runner(coro)\\n\\n', '  File \"/home/supriya/anaconda3/envs/stratus/lib/python3.6/site-packages/IPython/core/async_helpers.py\", line 68, in _pseudo_sync_runner\\n    coro.send(None)\\n\\n', '  File \"/home/supriya/anaconda3/envs/stratus/lib/python3.6/site-packages/IPython/core/interactiveshell.py\", line 3072, in run_cell_async\\n    interactivity=interactivity, compiler=compiler, result=result)\\n\\n', '  File \"/home/supriya/anaconda3/envs/stratus/lib/python3.6/site-packages/IPython/core/interactiveshell.py\", line 3263, in run_ast_nodes\\n    if (await self.run_code(code, result,  async_=asy)):\\n\\n', '  File \"/home/supriya/anaconda3/envs/stratus/lib/python3.6/site-packages/IPython/core/interactiveshell.py\", line 3343, in run_code\\n    exec(code_obj, self.user_global_ns, self.user_ns)\\n\\n', '  File \"<ipython-input-4-84fc2a56a996>\", line 20, in <module>\\n    client = stratus.getClient()\\n\\n', '  File \"/home/supriya/anaconda3/envs/stratus/lib/python3.6/site-packages/stratus-1.0-py3.6.egg/stratus/app/core.py\", line 23, in getClient\\n    client = service.client(self, **kwargs)\\n\\n', '  File \"/home/supriya/anaconda3/envs/stratus/lib/python3.6/site-packages/stratus-1.0-py3.6.egg/stratus/handlers/base.py\", line 35, in client\\n    if activate: client.activate()\\n\\n', '  File \"/home/supriya/anaconda3/envs/stratus/lib/python3.6/site-packages/stratus-1.0-py3.6.egg/stratus/app/client.py\", line 51, in activate\\n    self.init()\\n\\n', '  File \"/home/supriya/anaconda3/envs/stratus/lib/python3.6/site-packages/stratus-1.0-py3.6.egg/stratus/handlers/zeromq/client.py\", line 81, in init\\n    local_stack = str( [ str(sl) + \"\\\\n\" for sl in traceback.format_stack() ] )\\n\\n']\n"
     ]
    },
    {
     "name": "stderr",
     "output_type": "stream",
     "text": [
      "2021-02-25 12:29:50,961 - stratus - INFO - 5434 - 140647525619520 - EndpointSpecs: {'epas': ['xop*'], 'rid': 'CMLyWZ'}\n",
      "2021-02-25 12:29:51,132 - stratus - INFO - 5434 - 140647525619520 - [ZP] Sending authenticated exe request {\"input\": {\"data_path_file\": \"{\\\"Data_input_path\\\":{\\\"0\\\":\\\"\\\\/umbc\\\\/xfs1\\\\/cybertrn\\\\/common\\\\/Data\\\\/Satellite_Observations\\\\/MODIS\\\\/version_61\\\\/MYD06_L2\\\\/\\\",\\\"1\\\":\\\"\\\\/umbc\\\\/xfs1\\\\/cybertrn\\\\/common\\\\/Data\\\\/Satellite_Observations\\\\/MODIS\\\\/version_61\\\\/MYD03\\\\/\\\",\\\"2\\\":\\\"Data_output_path\\\",\\\"3\\\":\\\"\\\\/home\\\\/supriya\\\\/IS_Thesis\\\\/stratus_endpoint\\\\/stratus\\\\/stratus\\\\/handlers\\\\/endpoint\\\\/samples\\\\/MODIS_aggregation\\\\/data\\\\/zmq_test\\\\/result\\\\/\\\"},\\\"File_prefix_name\\\":{\\\"0\\\":\\\"MYD06_L2.A\\\",\\\"1\\\":\\\"MYD03.A\\\",\\\"2\\\":\\\"File_prefix_name\\\",\\\"3\\\":\\\"MYD08_M3\\\"}}\", \"output_path\": \"{\\\"Data_output_path\\\":{\\\"0\\\":\\\"\\\\/home\\\\/supriya\\\\/IS_Thesis\\\\/stratus_endpoint\\\\/stratus\\\\/stratus\\\\/handlers\\\\/endpoint\\\\/samples\\\\/MODIS_aggregation\\\\/data\\\\/zmq_test\\\\/result\\\\/\\\"},\\\"File_prefix_name\\\":{\\\"0\\\":\\\"MYD08_M3\\\"}}\", \"start_date\": \"2008/01/01\", \"end_date\": \"2008/01/01\", \"poly\": \"[-90,90,-180,180]\", \"grid\": \"[1,1]\", \"spl_num\": \"[5]\", \"sts_switch\": \"1, 1, 1, 1, 1, 1, 1\", \"varlist\": \"{\\\"Variable_name\\\":{\\\"0\\\":\\\"cloud_top_pressure_1km\\\",\\\"1\\\":\\\"cloud_top_temperature_1km\\\",\\\"2\\\":\\\"cloud_emissivity_1km\\\",\\\"3\\\":\\\"cloud_fraction\\\",\\\"4\\\":\\\"cloud_top_height_1km\\\"},\\\"Intervals\\\":{\\\"0\\\":\\\"50.5,150.0,250.0,350.0,450.0,550.0,650.0,750.0,850.0,950.0,1050.0\\\",\\\"1\\\":\\\"195.0,205.0,215.0,222.5,227.5,232.5,237.5,242.5,247.5,252.5,257.5,262.5,267.5,272.5,277.5,282.5,287.5\\\",\\\"2\\\":\\\"0.05,0.15,0.25,0.35,0.45,0.55,0.65,0.75,0.85,0.95\\\",\\\"3\\\":\\\"0.02,0.06,0.1,0.16,0.25,0.35,0.45,0.55,0.65,0.75,0.85,0.95\\\",\\\"4\\\":\\\"500.0,1500.0,2500.0,3500.0,4500.0,5500.0,6500.0,7500.0,8500.0,9500.0,10500.0,11500.0,12500.0,13500.0,14500.0,15500.0,16500.0,17500.0\\\"}}\", \"jvarlist\": \"{\\\"Variable_name\\\":{\\\"0\\\":\\\"cloud_top_pressure_1km\\\",\\\"1\\\":\\\"cloud_top_temperature_1km\\\",\\\"2\\\":\\\"cloud_emissivity_1km\\\",\\\"3\\\":\\\"Cloud_Fraction\\\",\\\"4\\\":\\\"cloud_top_height_1km\\\"},\\\"Joint_Variable_name\\\":{\\\"0\\\":\\\"Emissivity\\\",\\\"1\\\":\\\"Pressure\\\",\\\"2\\\":\\\"Pressure\\\",\\\"3\\\":\\\"Pressure\\\",\\\"4\\\":\\\"Pressure\\\"},\\\"Variable_Index\\\":{\\\"0\\\":2,\\\"1\\\":0,\\\"2\\\":0,\\\"3\\\":0,\\\"4\\\":0},\\\"Joint_Intervals\\\":{\\\"0\\\":\\\"0.25,0.725,0.975\\\",\\\"1\\\":\\\"199.5,550.0,900.0\\\",\\\"2\\\":\\\"199.5,550.0,900.0\\\",\\\"3\\\":\\\"199.5,550.0,900.0\\\",\\\"4\\\":\\\"199.5,550.0,900.0\\\"}}\"}, \"operation\": [{\"name\": \"xop:modisAggr\"}], \"rid\": \"KkOVfp\", \"cid\": \"3Ooz62\", \"clients\": \"3Ooz62\"} on port 4566, requestId = KkOVfp.\n",
      "2021-02-25 12:29:51,151 - stratus - INFO - 5434 - 140647525619520 - [ZP] Got exe response: {'status': 'Executing', 'rid': 'KkOVfp'}\n",
      "2021-02-25 12:29:51,153 - stratus - INFO - 5434 - 140647525619520 - [ZP] {'status': 'Executing', 'rid': 'KkOVfp'}\n",
      "2021-02-25 12:29:51,154 - stratus - INFO - 5434 - 140647525619520 - [RM] Created RM, cache dir = /home/supriya/.edas/cache\n",
      "2021-02-25 12:29:51,156 - stratus - INFO - 5434 - 140646655248128 - [RM] Run RM thread\n"
     ]
    },
    {
     "name": "stdout",
     "output_type": "stream",
     "text": [
      "\n",
      "\n",
      " in zmq client\n"
     ]
    },
    {
     "name": "stderr",
     "output_type": "stream",
     "text": [
      "2021-02-25 12:29:52,717 - stratus - INFO - 5434 - 140646655248128 - [RM] Connected response socket on port 4567 with subscription (client/request) id: 'KkOVfp', active = True\n",
      "2021-02-25 12:29:52,723 - stratus - INFO - 5434 - 140646655248128 - [RM] Awaiting responses\n",
      "2021-02-25 12:50:02,722 - stratus - INFO - 5434 - 140646655248128 - Caching result: {'type': 'xarray', 'status': 'Status.COMPLETED'}\n",
      "2021-02-25 12:50:02,723 - stratus - INFO - 5434 - 140646655248128 - [RM] [KkOVfp]: Received response: {'type': 'xarray', 'status': 'Status.COMPLETED'}, new status = Status.COMPLETED, exception = None\n",
      "2021-02-25 12:50:02,729 - stratus - INFO - 5434 - 140646655248128 - [RM] Awaiting responses\n"
     ]
    },
    {
     "name": "stdout",
     "output_type": "stream",
     "text": [
      "\n",
      "\n",
      "Completed computation in 1213.5657601356506 seconds\n",
      "Result saved at /home/supriya/IS_Thesis/stratus_endpoint/stratus/stratus/handlers/endpoint/samples/MODIS_aggregation/data/zmq_test/result/\n"
     ]
    }
   ],
   "source": [
    "from stratus_endpoint.handler.base import TaskHandle, TaskResult\n",
    "from typing import Sequence, List, Dict, Mapping, Optional, Any\n",
    "import time\n",
    "from stratus.app.core import StratusCore\n",
    "import os\n",
    "import xarray as xa\n",
    "import pandas as pd\n",
    "import pdb\n",
    "import numpy as np\n",
    "from datetime import date, datetime\n",
    "from dateutil.rrule import rrule, DAILY, MONTHLY\n",
    "\n",
    "if __name__ == \"__main__\":\n",
    "    start = time.time()\n",
    "\n",
    "    #  Startup a Stratus zmq client and connect to a server on localhost\n",
    "\n",
    "    settings = dict(stratus=dict(type=\"zeromq\", client_address=\"127.0.0.1\", request_port=\"4566\", response_port=\"4567\"))\n",
    "    stratus = StratusCore(settings)\n",
    "    client = stratus.getClient()\n",
    "\n",
    "    #M03_dir = \"/Users/lakshmipriyanka/Project/MODIS_Aggregation/resources/data/input_data_sample/MYD03/\"\n",
    "    #M06_dir = \"/Users/lakshmipriyanka/Project/MODIS_Aggregation/resources/data/input_data_sample/MYD06/\"\n",
    "\n",
    "    # requestSpec = dict(\n",
    "    #     input=dict(path1=M03_dir, path2=M06_dir, name1=[\"Latitude\", \"Longitude\"], name2=[\"Cloud_Mask_1km\"]),\n",
    "    #     operation=[dict(name=\"xop:cloudFraction\")]\n",
    "    # )\n",
    "\n",
    "    #arg_string = \"data_path.csv 2008/01/01 2008/01/01 [-90,90,-180,180] [1,1] [5] 1 1 1 1 1 1 1 input_file.csv input_Jhist.csv\"\n",
    "\n",
    "    print(\"\\n\\n in zmq client\")\n",
    "\n",
    "    df_datapath = pd.read_csv('data_path.csv',  header=0, delim_whitespace=True)\n",
    "    df_output_path = pd.read_csv('data_path.csv',  header=3, delim_whitespace=True)\n",
    "    df_varlist = pd.read_csv('input_file.csv',  header=0, delim_whitespace=True)\n",
    "    df_jvarlist = pd.read_csv('input_Jhist.csv',  header=0, delim_whitespace=True)\n",
    "    str_start_date='2008/01/01'\n",
    "    str_end_date='2008/01/01'               \n",
    "\n",
    "\n",
    "    requestSpec = dict(\n",
    "        input=dict(data_path_file=df_datapath.to_json(), \n",
    "                   output_path = df_output_path.to_json(),\n",
    "                   start_date=str_start_date, \n",
    "                   end_date=str_end_date, \n",
    "                   poly='[-90,90,-180,180]', \n",
    "                   grid='[1,1]', \n",
    "                   spl_num='[5]',\n",
    "                   sts_switch='1, 1, 1, 1, 1, 1, 1',\n",
    "                   varlist=df_varlist.to_json(),\n",
    "                   jvarlist=df_jvarlist.to_json()\n",
    "                   ),\n",
    "        operation=[dict(name=\"xop:modisAggr\")]\n",
    "    )\n",
    " \n",
    "\n",
    "    # Submit the request to the server and wait for the result\n",
    "    task: TaskHandle = client.request(requestSpec, input)\n",
    "    result: Optional[TaskResult] = task.getResult(block=True)\n",
    "\n",
    "    # Display the result\n",
    "\n",
    "    print(\"\\n\\nCompleted computation in \" + str(time.time() - start) + \" seconds\")\n",
    "\n",
    "    result_file = result.data[0] \n",
    "\n",
    "\n",
    "    #ouput dir and file name\n",
    "    output_dir = np.array(df_output_path)[0,0]\n",
    "    output_prefix = np.array(df_output_path)[0,1]\n",
    "    \n",
    "    if os.path.exists(output_dir) is False:\n",
    "        os.makedirs(output_dir)\n",
    "\n",
    "    start_date = np.fromstring(str_start_date, dtype=np.int, sep='/' )\n",
    "    end_date   = np.fromstring(str_end_date, dtype=np.int, sep='/' )\n",
    "    start = date(start_date[0], start_date[1], start_date[2])\n",
    "    until = date(end_date[0], end_date[1], end_date[2])\n",
    "\n",
    "    for dt in rrule(DAILY, interval=1, dtstart=start, until=until):\n",
    "        year  = np.int(dt.strftime(\"%Y\"))\n",
    "        month = np.int(dt.strftime(\"%m\"))\n",
    "\n",
    "    l3name  = output_prefix + '.A{:04d}{:02d}'.format(year,month)\n",
    "    subname = '_baseline_monthly_v8_client.h5'\n",
    "    # subname2 = '_baseline_monthly_v8_client.nc'\n",
    "\n",
    "    # result_file.to_netcdf(os.path.join(output_dir,'baseline_monthly_v8_client.h5'), mode='w', format='NETCDF4')\n",
    "    # import pdb; pdb.set_trace()\n",
    "    result_file.to_netcdf(os.path.join(output_dir,l3name+subname), mode='w', format='NETCDF4')\n",
    "    ## use hdf5 format and not netcdf4 -- Check a different API with different format\n",
    "    \n",
    "\n",
    "\n",
    "    print(\"Result saved at \" + output_dir)\n"
   ]
  },
  {
   "cell_type": "code",
   "execution_count": null,
   "id": "functional-professional",
   "metadata": {},
   "outputs": [],
   "source": []
  }
 ],
 "metadata": {
  "kernelspec": {
   "display_name": "Python 3",
   "language": "python",
   "name": "python3"
  },
  "language_info": {
   "codemirror_mode": {
    "name": "ipython",
    "version": 3
   },
   "file_extension": ".py",
   "mimetype": "text/x-python",
   "name": "python",
   "nbconvert_exporter": "python",
   "pygments_lexer": "ipython3",
   "version": "3.6.12"
  }
 },
 "nbformat": 4,
 "nbformat_minor": 5
}
